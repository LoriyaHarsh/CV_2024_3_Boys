{
 "cells": [
  {
   "cell_type": "code",
   "execution_count": 40,
   "metadata": {},
   "outputs": [],
   "source": [
    "# Code of Project: Enhanced Deployment of YOLO V8 on Nvidia Jetson Nano through Model Compression Techniques\n",
    "# Harsh Loriya AU2140154\n",
    "# Urmil Jagad AU2140179\n",
    "# Rahul Patel AU2140205\n"
   ]
  },
  {
   "cell_type": "code",
   "execution_count": null,
   "metadata": {},
   "outputs": [],
   "source": [
    "import onnx\n",
    "import onnxruntime as ort\n",
    "import numpy as np\n",
    "import os\n",
    "import torch\n",
    "import numpy as np \n",
    "from ultralytics import YOLO\n",
    "import time\n",
    "import psutil\n",
    "import GPUtil"
   ]
  },
  {
   "cell_type": "code",
   "execution_count": 41,
   "metadata": {},
   "outputs": [],
   "source": [
    "# to export into float 16\n",
    "# model.export(format='onnx',half=True)"
   ]
  },
  {
   "cell_type": "code",
   "execution_count": null,
   "metadata": {},
   "outputs": [],
   "source": [
    "model = YOLO('yolov8s.pt')\n",
    "\n",
    "def get_memory_usage():\n",
    "    mem = psutil.virtual_memory()\n",
    "    return mem.used / (1024 ** 3)  # Convert to GB\n",
    "\n",
    "def get_cpu_usage():\n",
    "    return psutil.cpu_percent()\n",
    "\n",
    "def get_gpu_usage():\n",
    "    gpus = GPUtil.getGPUs()\n",
    "    gpu_usage = 0\n",
    "    for gpu in gpus:\n",
    "        gpu_usage += gpu.load * 100\n",
    "    return gpu_usage / len(gpus) if len(gpus) > 0 else 0\n",
    "\n",
    "\n",
    "start_time = time.time()\n",
    "\n",
    "matrix = model.val(data='path to yaml file')\n",
    "\n",
    "end_time = time.time()\n",
    "\n",
    "memory_usage = get_memory_usage()\n",
    "cpu_usage = get_cpu_usage()\n",
    "gpu_usage = get_gpu_usage()\n",
    "\n",
    "elapsed_time = end_time - start_time\n",
    "\n",
    "print(f\"Total Time: {elapsed_time:.2f} seconds\")\n",
    "print(f\"Memory Usage: {memory_usage:.2f} GB\")\n",
    "print(f\"CPU Usage: {cpu_usage:.2f}%\")\n",
    "print(f\"GPU Usage: {gpu_usage:.2f}%\")\n"
   ]
  },
  {
   "cell_type": "code",
   "execution_count": null,
   "metadata": {},
   "outputs": [],
   "source": [
    "print(\"map = \",matrix.box.map)  \n",
    "print(\"map@50 = \" ,matrix.box.map50)\n",
    "print(\"map@75 = \",matrix.box.map75)\n"
   ]
  },
  {
   "cell_type": "code",
   "execution_count": 44,
   "metadata": {},
   "outputs": [],
   "source": [
    "# to export into int 8\n",
    "# model1.export(format='onnx',int8=True)"
   ]
  }
 ],
 "metadata": {
  "kernelspec": {
   "display_name": "base",
   "language": "python",
   "name": "python3"
  },
  "language_info": {
   "codemirror_mode": {
    "name": "ipython",
    "version": 3
   },
   "file_extension": ".py",
   "mimetype": "text/x-python",
   "name": "python",
   "nbconvert_exporter": "python",
   "pygments_lexer": "ipython3",
   "version": "3.11.5"
  },
  "orig_nbformat": 4
 },
 "nbformat": 4,
 "nbformat_minor": 2
}
